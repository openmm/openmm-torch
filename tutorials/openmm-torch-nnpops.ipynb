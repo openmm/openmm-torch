{
  "cells": [
    {
      "cell_type": "markdown",
      "metadata": {
        "id": "oRr7FSA13_Wv"
      },
      "source": [
        "# Tutorial: a simple simulation of alanine dipeptide with ANI-2x using OpenMM-Torch and NNPOps\n",
        "\n",
        "You can run this tutorial directly in your browser: [![Open On Colab](https://colab.research.google.com/assets/colab-badge.svg)](https://colab.research.google.com/github/raimis/openmm-torch/blob/example/tutorials/openmm-torch-nnpops.ipynb)\n",
        "\n",
        "Covered topics:\n",
        " * Installation of the software with [Conda](https://docs.conda.io/)\n",
        " * Creation of an NNP (neural network potential) with [TorchANI](https://aiqm.github.io/torchani/)\n",
        " * Acceleration of [ANI-2x](https://chemrxiv.org/engage/api-gateway/chemrxiv/assets/orp/resource/item/60c747e9567dfec574ec48df/original/extending-the-applicability-of-the-ani-deep-learning-molecular-potential-to-sulfur-and-halogens.pdf) with [NNPOps](https://github.com/openmm/NNPOps) \n",
        " * Integration of [OpenMM](https://openmm.org/) and [PyTorch](https://pytorch.org/) and with [OpenMM-Torch](https://github.com/openmm/openmm-torch)\n",
        " * Setup and execution of a simulation"
      ]
    },
    {
      "cell_type": "markdown",
      "metadata": {
        "id": "BKG1ZNq94f-Z"
      },
      "source": [
        "## Install Conda\n",
        "\n",
        "[Conda](https://docs.conda.io/) is a package and environment manager.\n",
        "\n",
        "On Google Colab, Conda is installed with [conda-colab](https://github.com/jaimergp/condacolab).\n",
        "\n",
        "On your computer, you should follow these [installation instructions](https://docs.conda.io/projects/conda/en/latest/user-guide/install/index.html).\n",
        "\n",
        "⚠️ Do not use conda-colab to install Conda on your computer!"
      ]
    },
    {
      "cell_type": "code",
      "execution_count": 1,
      "metadata": {
        "colab": {
          "base_uri": "https://localhost:8080/"
        },
        "id": "EcB2lc1s3ZXG",
        "outputId": "117a97ba-d68c-48ab-b8ff-b375fa27951e"
      },
      "outputs": [
        {
          "name": "stdout",
          "output_type": "stream",
          "text": [
            "⏬ Downloading https://repo.anaconda.com/miniconda/Miniconda3-py37_4.9.2-Linux-x86_64.sh...\n",
            "📦 Installing...\n",
            "📌 Adjusting configuration...\n",
            "🩹 Patching environment...\n",
            "⏲ Done in 0:00:24\n",
            "🔁 Restarting kernel...\n"
          ]
        }
      ],
      "source": [
        "!pip install -q condacolab\n",
        "import condacolab\n",
        "condacolab.install_miniconda()"
      ]
    },
    {
      "cell_type": "markdown",
      "metadata": {
        "id": "tWlPu4KF5DFZ"
      },
      "source": [
        "## Install software\n",
        "\n",
        "The [conda-forge](https://conda-forge.org/) channel is used for software.\n",
        "\n",
        "⚠️ The installation might take up to 10 min!"
      ]
    },
    {
      "cell_type": "code",
      "execution_count": 2,
      "metadata": {
        "colab": {
          "base_uri": "https://localhost:8080/"
        },
        "id": "-qFE_cKF5958",
        "outputId": "2e885a54-ddac-4cdd-823c-0d157dfd4f58"
      },
      "outputs": [
        {
          "name": "stdout",
          "output_type": "stream",
          "text": [
            "Collecting package metadata (current_repodata.json): - \b\b\\ \b\b| \b\b/ \b\b- \b\b\\ \b\b| \b\b/ \b\b- \b\b\\ \b\b| \b\b/ \b\b- \b\b\\ \b\b| \b\b/ \b\b- \b\b\\ \b\b| \b\b/ \b\b- \b\b\\ \b\b| \b\b/ \b\b- \b\b\\ \b\b| \b\b/ \b\b- \b\b\\ \b\b| \b\b/ \b\b- \b\b\\ \b\b| \b\b/ \b\b- \b\b\\ \b\b| \b\b/ \b\b- \b\b\\ \b\b| \b\b/ \b\b- \b\b\\ \b\b| \b\b/ \b\b- \b\b\\ \b\b| \b\b/ \b\b- \b\b\\ \b\b| \b\b/ \b\b- \b\b\\ \b\b| \b\b/ \b\b- \b\b\\ \b\b| \b\b/ \b\b- \b\b\\ \b\b| \b\b/ \b\b- \b\b\\ \b\b| \b\b/ \b\b- \b\b\\ \b\b| \b\b/ \b\b- \b\b\\ \b\b| \b\b/ \b\b- \b\b\\ \b\b| \b\b/ \b\b- \b\b\\ \b\b| \b\b/ \b\b- \b\b\\ \b\b| \b\b/ \b\b- \b\b\\ \b\b| \b\b/ \b\b- \b\b\\ \b\b| \b\b/ \b\b- \b\b\\ \b\b| \b\b/ \b\b- \b\b\\ \b\b| \b\b/ \b\b- \b\b\\ \b\b| \b\b/ \b\bdone\n",
            "Solving environment: \\ \b\bfailed with initial frozen solve. Retrying with flexible solve.\n",
            "Collecting package metadata (repodata.json): / \b\b- \b\b\\ \b\b| \b\b/ \b\b- \b\b\\ \b\b| \b\b/ \b\b- \b\b\\ \b\b| \b\b/ \b\b- \b\b\\ \b\b| \b\b/ \b\b- \b\b\\ \b\b| \b\b/ \b\b- \b\b\\ \b\b| \b\b/ \b\b- \b\b\\ \b\b| \b\b/ \b\b- \b\b\\ \b\b| \b\b/ \b\b- \b\b\\ \b\b| \b\b/ \b\b- \b\b\\ \b\b| \b\b/ \b\b- \b\b\\ \b\b| \b\b/ \b\b- \b\b\\ \b\b| \b\b/ \b\b- \b\b\\ \b\b| \b\b/ \b\b- \b\b\\ \b\b| \b\b/ \b\b- \b\b\\ \b\b| \b\b/ \b\b- \b\b\\ \b\b| \b\b/ \b\b- \b\b\\ \b\b| \b\b/ \b\b- \b\b\\ \b\b| \b\b/ \b\b- \b\b\\ \b\b| \b\b/ \b\b- \b\b\\ \b\b| \b\b/ \b\b- \b\b\\ \b\b| \b\b/ \b\b- \b\b\\ \b\b| \b\b/ \b\b- \b\b\\ \b\b| \b\b/ \b\b- \b\b\\ \b\b| \b\b/ \b\b- \b\b\\ \b\b| \b\b/ \b\b- \b\b\\ \b\b| \b\b/ \b\b- \b\b\\ \b\b| \b\b/ \b\b- \b\b\\ \b\b| \b\b/ \b\b- \b\b\\ \b\b| \b\b/ \b\b- \b\b\\ \b\b| \b\b/ \b\b- \b\b\\ \b\b| \b\b/ \b\b- \b\b\\ \b\b| \b\b/ \b\b- \b\b\\ \b\b| \b\b/ \b\b- \b\b\\ \b\b| \b\b/ \b\b- \b\b\\ \b\b| \b\b/ \b\b- \b\b\\ \b\b| \b\b/ \b\b- \b\b\\ \b\b| \b\b/ \b\b- \b\b\\ \b\b| \b\b/ \b\b- \b\b\\ \b\b| \b\b/ \b\b- \b\b\\ \b\b| \b\b/ \b\b- \b\b\\ \b\b| \b\b/ \b\b- \b\b\\ \b\b| \b\b/ \b\b- \b\b\\ \b\b| \b\b/ \b\b- \b\b\\ \b\b| \b\b/ \b\b- \b\b\\ \b\b| \b\b/ \b\b- \b\b\\ \b\b| \b\b/ \b\b- \b\b\\ \b\b| \b\b/ \b\b- \b\b\\ \b\b| \b\b/ \b\b- \b\b\\ \b\b| \b\b/ \b\b- \b\b\\ \b\b| \b\b/ \b\b- \b\b\\ \b\b| \b\b/ \b\b- \b\b\\ \b\b| \b\b/ \b\b- \b\b\\ \b\b| \b\b/ \b\b- \b\b\\ \b\b| \b\b/ \b\b- \b\b\\ \b\b| \b\b/ \b\b- \b\b\\ \b\b| \b\b/ \b\b- \b\b\\ \b\b| \b\b/ \b\b- \b\b\\ \b\b| \b\b/ \b\b- \b\b\\ \b\b| \b\b/ \b\b- \b\b\\ \b\b| \b\b/ \b\b- \b\b\\ \b\b| \b\b/ \b\b- \b\b\\ \b\b| \b\b/ \b\b- \b\b\\ \b\b| \b\b/ \b\b- \b\b\\ \b\b| \b\b/ \b\b- \b\b\\ \b\b| \b\b/ \b\b- \b\b\\ \b\b| \b\b/ \b\b- \b\b\\ \b\b| \b\b/ \b\b- \b\b\\ \b\b| \b\b/ \b\b- \b\b\\ \b\b| \b\b/ \b\b- \b\b\\ \b\b| \b\b/ \b\b- \b\b\\ \b\b| \b\b/ \b\b- \b\b\\ \b\b| \b\b/ \b\b- \b\b\\ \b\b| \b\b/ \b\b- \b\b\\ \b\b| \b\b/ \b\b- \b\b\\ \b\b| \b\b/ \b\b- \b\b\\ \b\b| \b\b/ \b\b- \b\b\\ \b\b| \b\b/ \b\b- \b\b\\ \b\b| \b\b/ \b\b- \b\b\\ \b\b| \b\b/ \b\b- \b\b\\ \b\b| \b\b/ \b\b- \b\b\\ \b\b| \b\b/ \b\b- \b\b\\ \b\b| \b\b/ \b\b- \b\b\\ \b\b| \b\b/ \b\b- \b\b\\ \b\b| \b\b/ \b\b- \b\b\\ \b\b| \b\b/ \b\b- \b\b\\ \b\b| \b\b/ \b\b- \b\b\\ \b\b| \b\b/ \b\b- \b\b\\ \b\b| \b\b/ \b\b- \b\b\\ \b\b| \b\b/ \b\b- \b\b\\ \b\b| \b\b/ \b\b- \b\b\\ \b\b| \b\b/ \b\b- \b\b\\ \b\b| \b\b/ \b\b- \b\b\\ \b\b| \b\b/ \b\b- \b\b\\ \b\b| \b\b/ \b\b- \b\b\\ \b\b| \b\b/ \b\b- \b\b\\ \b\b| \b\b/ \b\b- \b\b\\ \b\b| \b\b/ \b\b- \b\b\\ \b\b| \b\b/ \b\b- \b\b\\ \b\b| \b\bdone\n",
            "Solving environment: - \b\b\\ \b\b| \b\b/ \b\b- \b\b\\ \b\b| \b\b/ \b\b- \b\b\\ \b\b| \b\b/ \b\b- \b\b\\ \b\b| \b\b/ \b\b- \b\b\\ \b\b| \b\b/ \b\b- \b\b\\ \b\b| \b\b/ \b\b- \b\b\\ \b\b| \b\b/ \b\b- \b\b\\ \b\b| \b\b/ \b\b- \b\b\\ \b\b| \b\b/ \b\b- \b\b\\ \b\b| \b\b/ \b\b- \b\b\\ \b\b| \b\b/ \b\b- \b\b\\ \b\b| \b\b/ \b\b- \b\b\\ \b\b| \b\b/ \b\b- \b\b\\ \b\b| \b\b/ \b\b- \b\b\\ \b\b| \b\b/ \b\b- \b\b\\ \b\b| \b\b/ \b\b- \b\b\\ \b\b| \b\b/ \b\b- \b\b\\ \b\b| \b\b/ \b\b- \b\b\\ \b\b| \b\b/ \b\b- \b\b\\ \b\b| \b\b/ \b\b- \b\b\\ \b\b| \b\b/ \b\b- \b\b\\ \b\b| \b\b/ \b\b- \b\b\\ \b\b| \b\b/ \b\b- \b\b\\ \b\b| \b\b/ \b\b- \b\b\\ \b\b| \b\b/ \b\b- \b\b\\ \b\b| \b\b/ \b\b- \b\b\\ \b\b| \b\b/ \b\b- \b\b\\ \b\b| \b\b/ \b\b- \b\b\\ \b\b| \b\b/ \b\b- \b\b\\ \b\b| \b\b/ \b\b- \b\b\\ \b\b| \b\b/ \b\b- \b\b\\ \b\b| \b\b/ \b\b- \b\b\\ \b\b| \b\b/ \b\b- \b\b\\ \b\b| \b\b/ \b\b- \b\b\\ \b\b| \b\b/ \b\b- \b\b\\ \b\b| \b\b/ \b\b- \b\b\\ \b\b| \b\b/ \b\b- \b\b\\ \b\b| \b\b/ \b\b- \b\b\\ \b\b| \b\b/ \b\b- \b\b\\ \b\b| \b\b/ \b\b- \b\b\\ \b\b| \b\b/ \b\b- \b\b\\ \b\b| \b\b/ \b\b- \b\b\\ \b\b| \b\b/ \b\b- \b\b\\ \b\b| \b\b/ \b\b- \b\b\\ \b\b| \b\b/ \b\b- \b\b\\ \b\b| \b\b/ \b\b- \b\b\\ \b\b| \b\b/ \b\b- \b\b\\ \b\b| \b\b/ \b\b- \b\b\\ \b\b| \b\b/ \b\b- \b\b\\ \b\b| \b\b/ \b\b- \b\b\\ \b\b| \b\b/ \b\b- \b\b\\ \b\b| \b\b/ \b\b- \b\b\\ \b\b| \b\b/ \b\b- \b\b\\ \b\b| \b\b/ \b\b- \b\b\\ \b\b| \b\b/ \b\b- \b\b\\ \b\b| \b\b/ \b\b- \b\b\\ \b\b| \b\b/ \b\b- \b\b\\ \b\b| \b\b/ \b\b- \b\b\\ \b\b| \b\b/ \b\b- \b\b\\ \b\b| \b\b/ \b\b- \b\b\\ \b\b| \b\b/ \b\b- \b\b\\ \b\b| \b\b/ \b\b- \b\b\\ \b\b| \b\b/ \b\b- \b\b\\ \b\b| \b\b/ \b\b- \b\b\\ \b\b| \b\b/ \b\b- \b\b\\ \b\b| \b\b/ \b\b- \b\b\\ \b\b| \b\b/ \b\b- \b\b\\ \b\b| \b\b/ \b\b- \b\b\\ \b\b| \b\b/ \b\b- \b\b\\ \b\b| \b\b/ \b\b- \b\b\\ \b\b| \b\b/ \b\b- \b\b\\ \b\b| \b\b/ \b\b- \b\b\\ \b\b| \b\b/ \b\b- \b\b\\ \b\b| \b\b/ \b\b- \b\b\\ \b\b| \b\b/ \b\b- \b\b\\ \b\b| \b\b/ \b\b- \b\b\\ \b\b| \b\b/ \b\b- \b\b\\ \b\b| \b\b/ \b\b- \b\b\\ \b\b| \b\b/ \b\b- \b\b\\ \b\b| \b\b/ \b\b- \b\b\\ \b\b| \b\b/ \b\b- \b\b\\ \b\b| \b\b/ \b\b- \b\b\\ \b\b| \b\b/ \b\b- \b\b\\ \b\b| \b\b/ \b\b- \b\b\\ \b\b| \b\b/ \b\b- \b\b\\ \b\b| \b\b/ \b\b- \b\b\\ \b\b| \b\b/ \b\b- \b\b\\ \b\b| \b\b/ \b\b- \b\b\\ \b\b| \b\b/ \b\b- \b\b\\ \b\b| \b\b/ \b\b- \b\b\\ \b\b| \b\b/ \b\b- \b\b\\ \b\b| \b\b/ \b\b- \b\b\\ \b\b| \b\b/ \b\b- \b\b\\ \b\b| \b\b/ \b\b- \b\b\\ \b\b| \b\b/ \b\b- \b\b\\ \b\b| \b\b/ \b\b- \b\b\\ \b\b| \b\b/ \b\b- \b\b\\ \b\b| \b\b/ \b\b- \b\b\\ \b\b| \b\b/ \b\b- \b\b\\ \b\b| \b\b/ \b\b- \b\b\\ \b\b| \b\b/ \b\b- \b\b\\ \b\b| \b\b/ WARNING conda.core.solve:_add_specs(611): pinned spec cudatoolkit=11.1 conflicts with explicit specs.  Overriding pinned spec.\n",
            "\b\b- \b\b\\ \b\b| \b\b/ \b\b- \b\b\\ \b\b| \b\b/ \b\b- \b\b\\ \b\b| \b\b/ \b\b- \b\b\\ \b\b| \b\b/ \b\b- \b\b\\ \b\b| \b\b/ \b\b- \b\b\\ \b\b| \b\b/ \b\b- \b\b\\ \b\b| \b\b/ \b\b- \b\b\\ \b\b| \b\b/ \b\b- \b\b\\ \b\b| \b\b/ \b\b- \b\b\\ \b\b| \b\b/ \b\b- \b\b\\ \b\b| \b\b/ \b\b- \b\b\\ \b\b| \b\b/ \b\b- \b\b\\ \b\b| \b\b/ \b\b- \b\b\\ \b\b| \b\b/ \b\b- \b\b\\ \b\b| \b\b/ \b\b- \b\b\\ \b\b| \b\b/ \b\b- \b\b\\ \b\b| \b\b/ \b\b- \b\b\\ \b\b| \b\b/ \b\b- \b\b\\ \b\b| \b\b/ \b\b- \b\b\\ \b\b| \b\b/ \b\b- \b\b\\ \b\b| \b\b/ \b\b- \b\b\\ \b\b| \b\b/ \b\b- \b\b\\ \b\b| \b\b/ \b\b- \b\b\\ \b\b| \b\b/ \b\b- \b\b\\ \b\b| \b\b/ \b\b- \b\b\\ \b\b| \b\b/ \b\b- \b\b\\ \b\b| \b\b/ \b\b- \b\b\\ \b\b| \b\b/ \b\b- \b\b\\ \b\b| \b\b/ \b\b- \b\b\\ \b\b| \b\b/ \b\b- \b\b\\ \b\b| \b\b/ \b\b- \b\b\\ \b\b| \b\b/ \b\b- \b\b\\ \b\b| \b\b/ \b\b- \b\b\\ \b\b| \b\b/ \b\b- \b\b\\ \b\b| \b\b/ \b\b- \b\b\\ \b\b| \b\b/ \b\b- \b\b\\ \b\b| \b\b/ \b\b- \b\b\\ \b\b| \b\b/ \b\b- \b\b\\ \b\b| \b\b/ \b\b- \b\b\\ \b\b| \b\b/ \b\b- \b\b\\ \b\b| \b\b/ \b\b- \b\b\\ \b\b| \b\b/ \b\b- \b\b\\ \b\b| \b\b/ \b\b- \b\b\\ \b\b| \b\b/ \b\b- \b\b\\ \b\b| \b\b/ \b\b- \b\b\\ \b\b| \b\b/ \b\b- \b\b\\ \b\b| \b\b/ \b\b- \b\b\\ \b\b| \b\b/ \b\b- \b\b\\ \b\b| \b\b/ \b\b- \b\b\\ \b\b| \b\b/ \b\b- \b\b\\ \b\b| \b\b/ \b\b- \b\b\\ \b\b| \b\b/ \b\b- \b\b\\ \b\b| \b\b/ \b\b- \b\b\\ \b\b| \b\b/ \b\b- \b\b\\ \b\b| \b\b/ \b\b- \b\b\\ \b\b| \b\b/ \b\b- \b\b\\ \b\b| \b\b/ \b\b- \b\b\\ \b\b| \b\b/ \b\b- \b\b\\ \b\b| \b\b/ \b\b- \b\b\\ \b\b| \b\b/ \b\b- \b\b\\ \b\b| \b\b/ \b\b- \b\b\\ \b\b| \b\b/ \b\b- \b\b\\ \b\b| \b\b/ \b\b- \b\b\\ \b\b| \b\b/ \b\b- \b\b\\ \b\b| \b\b/ \b\b- \b\b\\ \b\b| \b\b/ \b\b- \b\b\\ \b\b| \b\b/ \b\b- \b\b\\ \b\b| \b\b/ \b\b- \b\b\\ \b\b| \b\b/ \b\b- \b\b\\ \b\b| \b\b/ \b\b- \b\b\\ \b\b| \b\b/ \b\b- \b\b\\ \b\b| \b\b/ \b\b- \b\b\\ \b\b| \b\b/ \b\b- \b\b\\ \b\b| \b\b/ \b\b- \b\b\\ \b\b| \b\b/ \b\b- \b\b\\ \b\b| \b\b/ \b\b- \b\b\\ \b\b| \b\b/ \b\b- \b\b\\ \b\b| \b\b/ \b\b- \b\b\\ \b\b| \b\b/ \b\b- \b\b\\ \b\b| \b\b/ \b\b- \b\b\\ \b\b| \b\b/ \b\b- \b\b\\ \b\b| \b\b/ \b\b- \b\b\\ \b\b| \b\b/ \b\b- \b\b\\ \b\b| \b\b/ \b\b- \b\b\\ \b\b| \b\b/ \b\b- \b\b\\ \b\b| \b\b/ \b\b- \b\b\\ \b\b| \b\b/ \b\b- \b\b\\ \b\b| \b\b/ \b\b- \b\b\\ \b\b| \b\b/ \b\b- \b\b\\ \b\b| \b\b/ \b\b- \b\b\\ \b\b| \b\b/ \b\b- \b\b\\ \b\b| \b\b/ \b\b- \b\b\\ \b\b| \b\b/ \b\b- \b\b\\ \b\b| \b\b/ \b\b- \b\b\\ \b\b| \b\b/ \b\b- \b\b\\ \b\b| \b\b/ \b\b- \b\b\\ \b\b| \b\b/ \b\b- \b\b\\ \b\b| \b\b/ \b\b- \b\b\\ \b\b| \b\b/ \b\b- \b\b\\ \b\b| \b\b/ \b\b- \b\b\\ \b\b| \b\b/ \b\b- \b\b\\ \b\b| \b\b/ \b\b- \b\b\\ \b\b| \b\b/ \b\b- \b\b\\ \b\b| \b\b/ \b\b- \b\b\\ \b\b| \b\b/ \b\b- \b\b\\ \b\b| \b\b/ \b\b- \b\b\\ \b\b| \b\b/ \b\b- \b\b\\ \b\b| \b\b/ \b\b- \b\b\\ \b\b| \b\b/ \b\b- \b\b\\ \b\b| \b\b/ \b\b- \b\b\\ \b\b| \b\b/ \b\b- \b\b\\ \b\b| \b\b/ \b\b- \b\b\\ \b\b| \b\b/ \b\b- \b\b\\ \b\b| \b\b/ \b\b- \b\b\\ \b\b| \b\b/ \b\b- \b\b\\ \b\b| \b\b/ \b\b- \b\b\\ \b\b| \b\b/ \b\b- \b\b\\ \b\b| \b\b/ \b\b- \b\b\\ \b\b| \b\b/ \b\b- \b\b\\ \b\b| \b\b/ \b\b- \b\b\\ \b\b| \b\b/ \b\b- \b\b\\ \b\b| \b\b/ \b\b- \b\b\\ \b\b| \b\b/ \b\b- \b\b\\ \b\b| \b\b/ \b\b- \b\b\\ \b\b| \b\b/ \b\b- \b\b\\ \b\b| \b\b/ \b\b- \b\b\\ \b\b| \b\b/ \b\b- \b\b\\ \b\b| \b\b/ \b\b- \b\b\\ \b\b| \b\b/ \b\b- \b\b\\ \b\b| \b\b/ \b\b- \b\b\\ \b\b| \b\b/ \b\b- \b\b\\ \b\b| \b\b/ \b\b- \b\b\\ \b\b| \b\b/ \b\b- \b\b\\ \b\b| \b\b/ \b\b- \b\b\\ \b\b| \b\b/ \b\b- \b\b\\ \b\b| \b\b/ \b\b- \b\b\\ \b\b| \b\b/ \b\b- \b\b\\ \b\b| \b\b/ \b\b- \b\b\\ \b\b| \b\b/ \b\b- \b\b\\ \b\b| \b\b/ \b\b- \b\b\\ \b\b| \b\b/ \b\b- \b\b\\ \b\b| \b\b/ \b\b- \b\b\\ \b\b| \b\b/ \b\b- \b\b\\ \b\b| \b\b/ \b\b- \b\b\\ \b\b| \b\b/ \b\b- \b\b\\ \b\b| \b\b/ \b\b- \b\b\\ \b\b| \b\b/ \b\b- \b\b\\ \b\b| \b\b/ \b\b- \b\b\\ \b\b| \b\b/ \b\b- \b\b\\ \b\b| \b\b/ \b\b- \b\b\\ \b\bdone\n",
            "\n",
            "\n",
            "==> WARNING: A newer version of conda exists. <==\n",
            "  current version: 4.9.2\n",
            "  latest version: 4.11.0\n",
            "\n",
            "Please update conda by running\n",
            "\n",
            "    $ conda update -n base -c defaults conda\n",
            "\n",
            "\n",
            "\n",
            "## Package Plan ##\n",
            "\n",
            "  environment location: /usr/local\n",
            "\n",
            "  added / updated specs:\n",
            "    - cudatoolkit=11.2\n",
            "    - nnpops\n",
            "    - openmm-torch\n",
            "    - openmmtools\n",
            "    - torchani\n",
            "\n",
            "\n",
            "The following packages will be downloaded:\n",
            "\n",
            "    package                    |            build\n",
            "    ---------------------------|-----------------\n",
            "    _libgcc_mutex-0.1          |      conda_forge           3 KB  conda-forge\n",
            "    _openmp_mutex-4.5          |           1_llvm           5 KB  conda-forge\n",
            "    astunparse-1.6.3           |     pyhd8ed1ab_0          15 KB  conda-forge\n",
            "    blosc-1.21.0               |       h9c3ff4c_0         841 KB  conda-forge\n",
            "    bzip2-1.0.8                |       h7f98852_4         484 KB  conda-forge\n",
            "    c-ares-1.18.1              |       h7f98852_0         113 KB  conda-forge\n",
            "    ca-certificates-2021.10.8  |       ha878542_0         139 KB  conda-forge\n",
            "    cached-property-1.5.2      |       hd8ed1ab_1           4 KB  conda-forge\n",
            "    cached_property-1.5.2      |     pyha770c72_1          11 KB  conda-forge\n",
            "    certifi-2021.10.8          |   py37h89c1867_1         145 KB  conda-forge\n",
            "    cftime-1.5.2               |   py37hb1e94ed_0         231 KB  conda-forge\n",
            "    conda-4.11.0               |   py37h89c1867_0        16.9 MB  conda-forge\n",
            "    cudatoolkit-11.2.2         |      he111cf0_10       877.3 MB  conda-forge\n",
            "    cudnn-8.2.1.32             |       h86fa8c9_0       673.9 MB  conda-forge\n",
            "    curl-7.79.1                |       h2574ce0_1         153 KB  conda-forge\n",
            "    fftw-3.3.10                |nompi_h77c792f_102         6.4 MB  conda-forge\n",
            "    future-0.18.2              |   py37h89c1867_4         713 KB  conda-forge\n",
            "    h5py-3.6.0                 |nompi_py37hd308b1e_100         1.3 MB  conda-forge\n",
            "    hdf4-4.2.15                |       h10796ff_3         950 KB  conda-forge\n",
            "    hdf5-1.12.1                |nompi_h2750804_100         3.5 MB  conda-forge\n",
            "    importlib-metadata-4.10.1  |   py37h89c1867_0          32 KB  conda-forge\n",
            "    importlib_metadata-4.10.1  |       hd8ed1ab_0           4 KB  conda-forge\n",
            "    jpeg-9e                    |       h7f98852_0         269 KB  conda-forge\n",
            "    krb5-1.19.2                |       hcc1bbae_0         1.4 MB  conda-forge\n",
            "    lark-parser-0.12.0         |     pyhd8ed1ab_0          78 KB  conda-forge\n",
            "    libblas-3.9.0              |   12_linux64_mkl          12 KB  conda-forge\n",
            "    libcblas-3.9.0             |   12_linux64_mkl          12 KB  conda-forge\n",
            "    libcurl-7.79.1             |       h2574ce0_1         335 KB  conda-forge\n",
            "    libev-4.33                 |       h516909a_1         104 KB  conda-forge\n",
            "    libgcc-ng-11.2.0           |      h1d223b6_12         904 KB  conda-forge\n",
            "    libgfortran-ng-11.2.0      |      h69a702a_12          19 KB  conda-forge\n",
            "    libgfortran5-11.2.0        |      h5c6108e_12         1.7 MB  conda-forge\n",
            "    liblapack-3.9.0            |   12_linux64_mkl          12 KB  conda-forge\n",
            "    libllvm11-11.1.0           |       hf817b99_2        29.1 MB  conda-forge\n",
            "    libnetcdf-4.8.1            |nompi_hb3fd0d9_101         1.5 MB  conda-forge\n",
            "    libnghttp2-1.43.0          |       h812cca2_1         790 KB  conda-forge\n",
            "    libprotobuf-3.19.1         |       h4ff587b_0         2.1 MB\n",
            "    libssh2-1.10.0             |       ha56f1ee_2         233 KB  conda-forge\n",
            "    libstdcxx-ng-11.2.0        |      he4da1e4_12         4.2 MB  conda-forge\n",
            "    libzip-1.8.0               |       h4de3113_1         126 KB  conda-forge\n",
            "    llvm-openmp-12.0.1         |       h4bd325d_1         2.8 MB  conda-forge\n",
            "    llvmlite-0.37.0            |   py37h9d7f4d0_0         2.9 MB  conda-forge\n",
            "    lzo-2.10                   |    h516909a_1000         314 KB  conda-forge\n",
            "    magma-2.5.4                |       h6103c52_2        89.0 MB  conda-forge\n",
            "    mdtraj-1.9.6               |   py37hc53b9d0_1         1.8 MB  conda-forge\n",
            "    mkl-2021.4.0               |     h8d4b97c_729       219.1 MB  conda-forge\n",
            "    mock-4.0.3                 |   py37h89c1867_2          51 KB  conda-forge\n",
            "    mpiplus-v0.0.1             |  pyhd8ed1ab_1003          15 KB  conda-forge\n",
            "    nccl-2.11.4.1              |       h5c60f85_2       146.4 MB  conda-forge\n",
            "    netcdf4-1.5.8              |nompi_py37hf784469_101         525 KB  conda-forge\n",
            "    ninja-1.10.2               |       h4bd325d_1         2.4 MB  conda-forge\n",
            "    nnpops-v0.0.1              |cuda112py37h877537b_0         444 KB  mmh\n",
            "    nose-1.3.7                 |          py_1006         118 KB  conda-forge\n",
            "    numba-0.54.1               |   py37h2d894fd_0         3.7 MB  conda-forge\n",
            "    numexpr-2.7.3              |   py37he8f5f7f_1         200 KB  conda-forge\n",
            "    numpy-1.20.3               |   py37h038b26d_1         5.7 MB  conda-forge\n",
            "    ocl-icd-2.3.1              |       h7f98852_0         119 KB  conda-forge\n",
            "    ocl-icd-system-1.0.0       |                1           4 KB  conda-forge\n",
            "    openmm-7.7.0               |   py37hfbac998_0        11.1 MB  conda-forge\n",
            "    openmm-torch-0.5           |cuda112py37ha71bfb1_0         145 KB  conda-forge\n",
            "    openmmtools-0.20.3         |     pyhd8ed1ab_0         8.3 MB  conda-forge\n",
            "    openssl-1.1.1l             |       h7f98852_0         2.1 MB  conda-forge\n",
            "    pandas-1.3.5               |   py37he8f5f7f_0        12.7 MB  conda-forge\n",
            "    pdbfixer-1.8.1             |     pyh6c4a22f_0         498 KB  conda-forge\n",
            "    pymbar-3.0.6               |   py37hb1e94ed_0         119 KB  conda-forge\n",
            "    pyparsing-3.0.7            |     pyhd8ed1ab_0          79 KB  conda-forge\n",
            "    pytables-3.6.1             |   py37h5dea08b_4         1.5 MB  conda-forge\n",
            "    python-dateutil-2.8.2      |     pyhd8ed1ab_0         240 KB  conda-forge\n",
            "    python_abi-3.7             |          2_cp37m           4 KB  conda-forge\n",
            "    pytorch-1.10.0             |cuda112py37haf94430_1       636.6 MB  conda-forge\n",
            "    pytorch-gpu-1.10.0         |cuda112py37h0bbbad9_1          12 KB  conda-forge\n",
            "    pytz-2021.3                |     pyhd8ed1ab_0         242 KB  conda-forge\n",
            "    pyyaml-6.0                 |   py37h5e8e339_3         187 KB  conda-forge\n",
            "    scipy-1.7.3                |   py37hf2a6cf1_0        21.8 MB  conda-forge\n",
            "    sleef-3.5.1                |       h9b69904_2         1.5 MB  conda-forge\n",
            "    snappy-1.1.8               |       he1b5a44_3          32 KB  conda-forge\n",
            "    tbb-2021.5.0               |       h4bd325d_0         2.0 MB  conda-forge\n",
            "    torchani-2.2.2             |py37cuda112hdc9d718_0_cuda        22.3 MB  conda-forge\n",
            "    typing_extensions-4.0.1    |     pyha770c72_0          26 KB  conda-forge\n",
            "    zipp-3.7.0                 |     pyhd8ed1ab_0          12 KB  conda-forge\n",
            "    ------------------------------------------------------------\n",
            "                                           Total:        2.76 GB\n",
            "\n",
            "The following NEW packages will be INSTALLED:\n",
            "\n",
            "  _openmp_mutex      conda-forge/linux-64::_openmp_mutex-4.5-1_llvm\n",
            "  astunparse         conda-forge/noarch::astunparse-1.6.3-pyhd8ed1ab_0\n",
            "  blosc              conda-forge/linux-64::blosc-1.21.0-h9c3ff4c_0\n",
            "  bzip2              conda-forge/linux-64::bzip2-1.0.8-h7f98852_4\n",
            "  c-ares             conda-forge/linux-64::c-ares-1.18.1-h7f98852_0\n",
            "  cached-property    conda-forge/noarch::cached-property-1.5.2-hd8ed1ab_1\n",
            "  cached_property    conda-forge/noarch::cached_property-1.5.2-pyha770c72_1\n",
            "  cftime             conda-forge/linux-64::cftime-1.5.2-py37hb1e94ed_0\n",
            "  cudatoolkit        conda-forge/linux-64::cudatoolkit-11.2.2-he111cf0_10\n",
            "  cudnn              conda-forge/linux-64::cudnn-8.2.1.32-h86fa8c9_0\n",
            "  curl               conda-forge/linux-64::curl-7.79.1-h2574ce0_1\n",
            "  fftw               conda-forge/linux-64::fftw-3.3.10-nompi_h77c792f_102\n",
            "  future             conda-forge/linux-64::future-0.18.2-py37h89c1867_4\n",
            "  h5py               conda-forge/linux-64::h5py-3.6.0-nompi_py37hd308b1e_100\n",
            "  hdf4               conda-forge/linux-64::hdf4-4.2.15-h10796ff_3\n",
            "  hdf5               conda-forge/linux-64::hdf5-1.12.1-nompi_h2750804_100\n",
            "  importlib-metadata conda-forge/linux-64::importlib-metadata-4.10.1-py37h89c1867_0\n",
            "  importlib_metadata conda-forge/noarch::importlib_metadata-4.10.1-hd8ed1ab_0\n",
            "  jpeg               conda-forge/linux-64::jpeg-9e-h7f98852_0\n",
            "  krb5               conda-forge/linux-64::krb5-1.19.2-hcc1bbae_0\n",
            "  lark-parser        conda-forge/noarch::lark-parser-0.12.0-pyhd8ed1ab_0\n",
            "  libblas            conda-forge/linux-64::libblas-3.9.0-12_linux64_mkl\n",
            "  libcblas           conda-forge/linux-64::libcblas-3.9.0-12_linux64_mkl\n",
            "  libcurl            conda-forge/linux-64::libcurl-7.79.1-h2574ce0_1\n",
            "  libev              conda-forge/linux-64::libev-4.33-h516909a_1\n",
            "  libgfortran-ng     conda-forge/linux-64::libgfortran-ng-11.2.0-h69a702a_12\n",
            "  libgfortran5       conda-forge/linux-64::libgfortran5-11.2.0-h5c6108e_12\n",
            "  liblapack          conda-forge/linux-64::liblapack-3.9.0-12_linux64_mkl\n",
            "  libllvm11          conda-forge/linux-64::libllvm11-11.1.0-hf817b99_2\n",
            "  libnetcdf          conda-forge/linux-64::libnetcdf-4.8.1-nompi_hb3fd0d9_101\n",
            "  libnghttp2         conda-forge/linux-64::libnghttp2-1.43.0-h812cca2_1\n",
            "  libprotobuf        pkgs/main/linux-64::libprotobuf-3.19.1-h4ff587b_0\n",
            "  libssh2            conda-forge/linux-64::libssh2-1.10.0-ha56f1ee_2\n",
            "  libzip             conda-forge/linux-64::libzip-1.8.0-h4de3113_1\n",
            "  llvm-openmp        conda-forge/linux-64::llvm-openmp-12.0.1-h4bd325d_1\n",
            "  llvmlite           conda-forge/linux-64::llvmlite-0.37.0-py37h9d7f4d0_0\n",
            "  lzo                conda-forge/linux-64::lzo-2.10-h516909a_1000\n",
            "  magma              conda-forge/linux-64::magma-2.5.4-h6103c52_2\n",
            "  mdtraj             conda-forge/linux-64::mdtraj-1.9.6-py37hc53b9d0_1\n",
            "  mkl                conda-forge/linux-64::mkl-2021.4.0-h8d4b97c_729\n",
            "  mock               conda-forge/linux-64::mock-4.0.3-py37h89c1867_2\n",
            "  mpiplus            conda-forge/noarch::mpiplus-v0.0.1-pyhd8ed1ab_1003\n",
            "  nccl               conda-forge/linux-64::nccl-2.11.4.1-h5c60f85_2\n",
            "  netcdf4            conda-forge/linux-64::netcdf4-1.5.8-nompi_py37hf784469_101\n",
            "  ninja              conda-forge/linux-64::ninja-1.10.2-h4bd325d_1\n",
            "  nnpops             mmh/linux-64::nnpops-v0.0.1-cuda112py37h877537b_0\n",
            "  nose               conda-forge/noarch::nose-1.3.7-py_1006\n",
            "  numba              conda-forge/linux-64::numba-0.54.1-py37h2d894fd_0\n",
            "  numexpr            conda-forge/linux-64::numexpr-2.7.3-py37he8f5f7f_1\n",
            "  numpy              conda-forge/linux-64::numpy-1.20.3-py37h038b26d_1\n",
            "  ocl-icd            conda-forge/linux-64::ocl-icd-2.3.1-h7f98852_0\n",
            "  ocl-icd-system     conda-forge/linux-64::ocl-icd-system-1.0.0-1\n",
            "  openmm             conda-forge/linux-64::openmm-7.7.0-py37hfbac998_0\n",
            "  openmm-torch       conda-forge/linux-64::openmm-torch-0.5-cuda112py37ha71bfb1_0\n",
            "  openmmtools        conda-forge/noarch::openmmtools-0.20.3-pyhd8ed1ab_0\n",
            "  pandas             conda-forge/linux-64::pandas-1.3.5-py37he8f5f7f_0\n",
            "  pdbfixer           conda-forge/noarch::pdbfixer-1.8.1-pyh6c4a22f_0\n",
            "  pymbar             conda-forge/linux-64::pymbar-3.0.6-py37hb1e94ed_0\n",
            "  pyparsing          conda-forge/noarch::pyparsing-3.0.7-pyhd8ed1ab_0\n",
            "  pytables           conda-forge/linux-64::pytables-3.6.1-py37h5dea08b_4\n",
            "  python-dateutil    conda-forge/noarch::python-dateutil-2.8.2-pyhd8ed1ab_0\n",
            "  python_abi         conda-forge/linux-64::python_abi-3.7-2_cp37m\n",
            "  pytorch            conda-forge/linux-64::pytorch-1.10.0-cuda112py37haf94430_1\n",
            "  pytorch-gpu        conda-forge/linux-64::pytorch-gpu-1.10.0-cuda112py37h0bbbad9_1\n",
            "  pytz               conda-forge/noarch::pytz-2021.3-pyhd8ed1ab_0\n",
            "  pyyaml             conda-forge/linux-64::pyyaml-6.0-py37h5e8e339_3\n",
            "  scipy              conda-forge/linux-64::scipy-1.7.3-py37hf2a6cf1_0\n",
            "  sleef              conda-forge/linux-64::sleef-3.5.1-h9b69904_2\n",
            "  snappy             conda-forge/linux-64::snappy-1.1.8-he1b5a44_3\n",
            "  tbb                conda-forge/linux-64::tbb-2021.5.0-h4bd325d_0\n",
            "  torchani           conda-forge/linux-64::torchani-2.2.2-py37cuda112hdc9d718_0_cuda\n",
            "  typing_extensions  conda-forge/noarch::typing_extensions-4.0.1-pyha770c72_0\n",
            "  zipp               conda-forge/noarch::zipp-3.7.0-pyhd8ed1ab_0\n",
            "\n",
            "The following packages will be UPDATED:\n",
            "\n",
            "  ca-certificates    pkgs/main::ca-certificates-2020.10.14~ --> conda-forge::ca-certificates-2021.10.8-ha878542_0\n",
            "  certifi            pkgs/main/noarch::certifi-2020.6.20-p~ --> conda-forge/linux-64::certifi-2021.10.8-py37h89c1867_1\n",
            "  conda               pkgs/main::conda-4.9.2-py37h06a4308_0 --> conda-forge::conda-4.11.0-py37h89c1867_0\n",
            "  libgcc-ng           pkgs/main::libgcc-ng-9.1.0-hdf63c60_0 --> conda-forge::libgcc-ng-11.2.0-h1d223b6_12\n",
            "  libstdcxx-ng       pkgs/main::libstdcxx-ng-9.1.0-hdf63c6~ --> conda-forge::libstdcxx-ng-11.2.0-he4da1e4_12\n",
            "  openssl              pkgs/main::openssl-1.1.1h-h7b6447c_0 --> conda-forge::openssl-1.1.1l-h7f98852_0\n",
            "\n",
            "The following packages will be SUPERSEDED by a higher-priority channel:\n",
            "\n",
            "  _libgcc_mutex           pkgs/main::_libgcc_mutex-0.1-main --> conda-forge::_libgcc_mutex-0.1-conda_forge\n",
            "\n",
            "\n",
            "\n",
            "Downloading and Extracting Packages\n",
            "mdtraj-1.9.6         | 1.8 MB    | : 100% 1.0/1 [00:00<00:00,  2.19it/s]\n",
            "libcblas-3.9.0       | 12 KB     | : 100% 1.0/1 [00:00<00:00, 26.26it/s]\n",
            "numba-0.54.1         | 3.7 MB    | : 100% 1.0/1 [00:01<00:00,  1.12s/it]\n",
            "ninja-1.10.2         | 2.4 MB    | : 100% 1.0/1 [00:00<00:00,  2.25it/s]\n",
            "pytorch-1.10.0       | 636.6 MB  | : 100% 1.0/1 [01:50<00:00, 110.05s/it]              \n",
            "openmmtools-0.20.3   | 8.3 MB    | : 100% 1.0/1 [00:02<00:00,  2.59s/it]               \n",
            "_openmp_mutex-4.5    | 5 KB      | : 100% 1.0/1 [00:00<00:00, 26.23it/s]\n",
            "python_abi-3.7       | 4 KB      | : 100% 1.0/1 [00:00<00:00, 38.63it/s]\n",
            "astunparse-1.6.3     | 15 KB     | : 100% 1.0/1 [00:00<00:00, 32.54it/s]\n",
            "liblapack-3.9.0      | 12 KB     | : 100% 1.0/1 [00:00<00:00, 32.50it/s]\n",
            "lzo-2.10             | 314 KB    | : 100% 1.0/1 [00:00<00:00,  9.15it/s]\n",
            "blosc-1.21.0         | 841 KB    | : 100% 1.0/1 [00:00<00:00,  5.32it/s]\n",
            "numexpr-2.7.3        | 200 KB    | : 100% 1.0/1 [00:00<00:00, 12.31it/s]\n",
            "typing_extensions-4. | 26 KB     | : 100% 1.0/1 [00:00<00:00, 30.21it/s]\n",
            "ca-certificates-2021 | 139 KB    | : 100% 1.0/1 [00:00<00:00, 19.97it/s]\n",
            "ocl-icd-system-1.0.0 | 4 KB      | : 100% 1.0/1 [00:00<00:00, 27.51it/s]\n",
            "lark-parser-0.12.0   | 78 KB     | : 100% 1.0/1 [00:00<00:00, 13.94it/s]\n",
            "netcdf4-1.5.8        | 525 KB    | : 100% 1.0/1 [00:00<00:00,  6.66it/s]\n",
            "mkl-2021.4.0         | 219.1 MB  | : 100% 1.0/1 [00:47<00:00, 47.64s/it]               \n",
            "cudnn-8.2.1.32       | 673.9 MB  | : 100% 1.0/1 [02:05<00:00, 125.34s/it]              \n",
            "openssl-1.1.1l       | 2.1 MB    | : 100% 1.0/1 [00:00<00:00,  2.36it/s]\n",
            "krb5-1.19.2          | 1.4 MB    | : 100% 1.0/1 [00:00<00:00,  2.80it/s]\n",
            "mpiplus-v0.0.1       | 15 KB     | : 100% 1.0/1 [00:00<00:00, 25.17it/s]\n",
            "ocl-icd-2.3.1        | 119 KB    | : 100% 1.0/1 [00:00<00:00, 10.83it/s]\n",
            "mock-4.0.3           | 51 KB     | : 100% 1.0/1 [00:00<00:00, 23.75it/s]\n",
            "libllvm11-11.1.0     | 29.1 MB   | : 100% 1.0/1 [00:06<00:00,  6.40s/it]               \n",
            "_libgcc_mutex-0.1    | 3 KB      | : 100% 1.0/1 [00:00<00:00, 22.80it/s]\n",
            "pytables-3.6.1       | 1.5 MB    | : 100% 1.0/1 [00:00<00:00,  1.92it/s]\n",
            "tbb-2021.5.0         | 2.0 MB    | : 100% 1.0/1 [00:00<00:00,  2.66it/s]\n",
            "cached_property-1.5. | 11 KB     | : 100% 1.0/1 [00:00<00:00, 30.57it/s]\n",
            "libnghttp2-1.43.0    | 790 KB    | : 100% 1.0/1 [00:00<00:00,  4.94it/s]\n",
            "numpy-1.20.3         | 5.7 MB    | : 100% 1.0/1 [00:01<00:00,  1.63s/it]               \n",
            "pdbfixer-1.8.1       | 498 KB    | : 100% 1.0/1 [00:00<00:00,  6.46it/s]\n",
            "torchani-2.2.2       | 22.3 MB   | : 100% 1.0/1 [00:04<00:00,  4.83s/it]               \n",
            "python-dateutil-2.8. | 240 KB    | : 100% 1.0/1 [00:00<00:00, 14.57it/s]\n",
            "hdf5-1.12.1          | 3.5 MB    | : 100% 1.0/1 [00:00<00:00,  1.23it/s]\n",
            "future-0.18.2        | 713 KB    | : 100% 1.0/1 [00:00<00:00,  3.86it/s]\n",
            "llvmlite-0.37.0      | 2.9 MB    | : 100% 1.0/1 [00:00<00:00,  1.46it/s]\n",
            "pyyaml-6.0           | 187 KB    | : 100% 1.0/1 [00:00<00:00, 13.55it/s]\n",
            "pymbar-3.0.6         | 119 KB    | : 100% 1.0/1 [00:00<00:00, 10.41it/s]\n",
            "nose-1.3.7           | 118 KB    | : 100% 1.0/1 [00:00<00:00, 13.73it/s]\n",
            "curl-7.79.1          | 153 KB    | : 100% 1.0/1 [00:00<00:00, 18.95it/s]\n",
            "magma-2.5.4          | 89.0 MB   | : 100% 1.0/1 [00:14<00:00, 14.26s/it]\n",
            "pyparsing-3.0.7      | 79 KB     | : 100% 1.0/1 [00:00<00:00, 13.18it/s]\n",
            "c-ares-1.18.1        | 113 KB    | : 100% 1.0/1 [00:00<00:00, 11.86it/s]\n",
            "libprotobuf-3.19.1   | 2.1 MB    | : 100% 1.0/1 [00:00<00:00,  2.97it/s]\n",
            "libzip-1.8.0         | 126 KB    | : 100% 1.0/1 [00:00<00:00, 10.52it/s]\n",
            "jpeg-9e              | 269 KB    | : 100% 1.0/1 [00:00<00:00,  8.36it/s]\n",
            "fftw-3.3.10          | 6.4 MB    | : 100% 1.0/1 [00:01<00:00,  1.66s/it]\n",
            "zipp-3.7.0           | 12 KB     | : 100% 1.0/1 [00:00<00:00, 34.23it/s]\n",
            "hdf4-4.2.15          | 950 KB    | : 100% 1.0/1 [00:00<00:00,  3.57it/s]\n",
            "conda-4.11.0         | 16.9 MB   | : 100% 1.0/1 [00:04<00:00,  4.96s/it]\n",
            "bzip2-1.0.8          | 484 KB    | : 100% 1.0/1 [00:00<00:00,  7.46it/s]\n",
            "importlib-metadata-4 | 32 KB     | : 100% 1.0/1 [00:00<00:00, 30.43it/s]\n",
            "nccl-2.11.4.1        | 146.4 MB  | : 100% 1.0/1 [00:29<00:00, 29.67s/it]               \n",
            "sleef-3.5.1          | 1.5 MB    | : 100% 1.0/1 [00:00<00:00,  2.38it/s]\n",
            "pandas-1.3.5         | 12.7 MB   | : 100% 1.0/1 [00:04<00:00,  4.12s/it]\n",
            "libgfortran-ng-11.2. | 19 KB     | : 100% 1.0/1 [00:00<00:00, 31.64it/s]\n",
            "cached-property-1.5. | 4 KB      | : 100% 1.0/1 [00:00<00:00, 34.11it/s]\n",
            "snappy-1.1.8         | 32 KB     | : 100% 1.0/1 [00:00<00:00, 30.62it/s]\n",
            "scipy-1.7.3          | 21.8 MB   | : 100% 1.0/1 [00:05<00:00,  5.44s/it]\n",
            "llvm-openmp-12.0.1   | 2.8 MB    | : 100% 1.0/1 [00:00<00:00,  1.69it/s]\n",
            "libcurl-7.79.1       | 335 KB    | : 100% 1.0/1 [00:00<00:00, 10.64it/s]\n",
            "openmm-torch-0.5     | 145 KB    | : 100% 1.0/1 [00:00<00:00,  8.60it/s]\n",
            "libgcc-ng-11.2.0     | 904 KB    | : 100% 1.0/1 [00:00<00:00,  4.99it/s]\n",
            "pytz-2021.3          | 242 KB    | : 100% 1.0/1 [00:00<00:00,  5.87it/s]\n",
            "pytorch-gpu-1.10.0   | 12 KB     | : 100% 1.0/1 [00:00<00:00, 26.12it/s]\n",
            "cftime-1.5.2         | 231 KB    | : 100% 1.0/1 [00:00<00:00, 11.27it/s]\n",
            "cudatoolkit-11.2.2   | 877.3 MB  | : 100% 1.0/1 [02:30<00:00, 150.75s/it]              \n",
            "libblas-3.9.0        | 12 KB     | : 100% 1.0/1 [00:00<00:00, 24.90it/s]\n",
            "openmm-7.7.0         | 11.1 MB   | : 100% 1.0/1 [00:03<00:00,  3.40s/it]\n",
            "libnetcdf-4.8.1      | 1.5 MB    | : 100% 1.0/1 [00:00<00:00,  2.33it/s]\n",
            "libgfortran5-11.2.0  | 1.7 MB    | : 100% 1.0/1 [00:00<00:00,  2.56it/s]\n",
            "libssh2-1.10.0       | 233 KB    | : 100% 1.0/1 [00:00<00:00, 10.41it/s]\n",
            "certifi-2021.10.8    | 145 KB    | : 100% 1.0/1 [00:00<00:00, 21.74it/s]\n",
            "h5py-3.6.0           | 1.3 MB    | : 100% 1.0/1 [00:00<00:00,  2.53it/s]\n",
            "importlib_metadata-4 | 4 KB      | : 100% 1.0/1 [00:00<00:00, 30.46it/s]\n",
            "nnpops-v0.0.1        | 444 KB    | : 100% 1.0/1 [00:00<00:00,  3.94it/s]\n",
            "libev-4.33           | 104 KB    | : 100% 1.0/1 [00:00<00:00, 21.69it/s]\n",
            "libstdcxx-ng-11.2.0  | 4.2 MB    | : 100% 1.0/1 [00:00<00:00,  1.11it/s]\n",
            "Preparing transaction: / \b\b- \b\b\\ \b\b| \b\b/ \b\b- \b\b\\ \b\b| \b\b/ \b\b- \b\b\\ \b\bdone\n",
            "Verifying transaction: / \b\b- \b\b\\ \b\b| \b\b/ \b\b- \b\b\\ \b\b| \b\b/ \b\b- \b\b\\ \b\b| \b\b/ \b\b- \b\b\\ \b\b| \b\b/ \b\b- \b\b\\ \b\b| \b\b/ \b\b- \b\b\\ \b\b| \b\b/ \b\b- \b\b\\ \b\b| \b\b/ \b\b- \b\bdone\n",
            "Executing transaction: | \b\b/ \b\b- \b\b\\ \b\b| \b\b/ \b\b- \b\b\\ \b\b| \b\b/ \b\b- \b\b\\ \b\b| \b\b/ \b\b- \b\b\\ \b\b| \b\b/ \b\b- \b\b\\ \b\b| \b\b/ \b\b- \b\b\\ \b\b| \b\b/ \b\b- \b\b\\ \b\b| \b\b/ \b\b- \b\b\\ \b\b| \b\b/ \b\b- \b\b\\ \b\b| \b\b/ \b\b- \b\b\\ \b\b| By downloading and using the CUDA Toolkit conda packages, you accept the terms and conditions of the CUDA End User License Agreement (EULA): https://docs.nvidia.com/cuda/eula/index.html\n",
            "\n",
            "\b\b/ \b\b- \b\b\\ \b\b| \b\b/ By downloading and using the cuDNN conda packages, you accept the terms and conditions of the NVIDIA cuDNN EULA -\n",
            "  https://docs.nvidia.com/deeplearning/cudnn/sla/index.html\n",
            "\n",
            "\b\b- \b\b\\ \b\b| \b\b/ \b\b- \b\b\\ \b\b| \b\b/ \b\b- \b\b\\ \b\b| \b\b/ \b\b- \b\b\\ \b\b| \b\b/ \b\b- \b\b\\ \b\b| \b\b/ \b\b- \b\b\\ \b\b| \b\b/ \b\bdone\n"
          ]
        }
      ],
      "source": [
        "# Remove \"mmh\" when NNPOps in available on conda-forge (https://github.com/openmm/NNPOps/issues/26)\n",
        "!conda install -c conda-forge \\\n",
        "               -c mmh \\\n",
        "               openmm-torch nnpops torchani openmmtools \\\n",
        "               cudatoolkit=11.2 # Override a pinning in conda-colab"
      ]
    },
    {
      "cell_type": "markdown",
      "metadata": {
        "id": "ZQwKdquUF5wo"
      },
      "source": [
        "## Prepare a simulation system\n",
        "\n",
        "For simplicity, the alanine dipeptide system from [OpenMM-Tools](https://openmmtools.readthedocs.io/en/latest/) is used."
      ]
    },
    {
      "cell_type": "code",
      "execution_count": 1,
      "metadata": {
        "colab": {
          "base_uri": "https://localhost:8080/"
        },
        "id": "zNng_d4mGKve",
        "outputId": "67e14365-aaf3-49dc-d8f8-b2aa310f19fc"
      },
      "outputs": [
        {
          "name": "stderr",
          "output_type": "stream",
          "text": [
            "Warning: importing 'simtk.openmm' is deprecated.  Import 'openmm' instead.\n"
          ]
        }
      ],
      "source": [
        "import openmmtools\n",
        "\n",
        "# Get the system of alanine dipeptide\n",
        "ala2 = openmmtools.testsystems.AlanineDipeptideVacuum(constraints=None)\n",
        "\n",
        "# Remove MM forces\n",
        "while ala2.system.getNumForces() > 0:\n",
        "  ala2.system.removeForce(0)\n",
        "\n",
        "# The system should not contain any additional force and constrains\n",
        "assert ala2.system.getNumConstraints() == 0\n",
        "assert ala2.system.getNumForces() == 0\n",
        "\n",
        "# Get the list of atomic numbers\n",
        "atomic_numbers = [atom.element.atomic_number for atom in ala2.topology.atoms()]"
      ]
    },
    {
      "cell_type": "markdown",
      "metadata": {
        "id": "BWlQTEF1IS4S"
      },
      "source": [
        "## Create a NNP\n",
        "\n",
        "A NNP (neural network potential) is created with [TorchANI](https://aiqm.github.io/torchani/). In this case [ANI-2x](https://chemrxiv.org/engage/api-gateway/chemrxiv/assets/orp/resource/item/60c747e9567dfec574ec48df/original/extending-the-applicability-of-the-ani-deep-learning-molecular-potential-to-sulfur-and-halogens.pdf) is used, which can be accelerated with [NNPOPs](https://github.com/openmm/NNPOps)."
      ]
    },
    {
      "cell_type": "code",
      "execution_count": 2,
      "metadata": {
        "colab": {
          "base_uri": "https://localhost:8080/"
        },
        "id": "ofemZo6sIbLU",
        "outputId": "46a0a285-303d-4e07-a78d-869c556de406"
      },
      "outputs": [
        {
          "name": "stderr",
          "output_type": "stream",
          "text": [
            "/usr/local/lib/python3.7/site-packages/torchani/__init__.py:55: UserWarning: Dependency not satisfied, torchani.ase will not be available\n",
            "  warnings.warn(\"Dependency not satisfied, torchani.ase will not be available\")\n"
          ]
        },
        {
          "name": "stdout",
          "output_type": "stream",
          "text": [
            "/usr/local/lib/python3.7/site-packages/torchani/resources/\n",
            "Downloading ANI model parameters ...\n"
          ]
        },
        {
          "name": "stderr",
          "output_type": "stream",
          "text": [
            "/usr/local/lib/python3.7/site-packages/torch/functional.py:1069: UserWarning: torch.meshgrid: in an upcoming release, it will be required to pass the indexing argument. (Triggered internally at  /home/conda/feedstock_root/build_artifacts/pytorch-recipe_1640851336451/work/aten/src/ATen/native/TensorShape.cpp:2156.)\n",
            "  return _VF.cartesian_prod(tensors)  # type: ignore[attr-defined]\n"
          ]
        }
      ],
      "source": [
        "import torch as pt\n",
        "from torchani.models import ANI2x\n",
        "from NNPOps import OptimizedTorchANI\n",
        "\n",
        "class NNP(pt.nn.Module):\n",
        "\n",
        "  def __init__(self, atomic_numbers):\n",
        "\n",
        "    super().__init__()\n",
        "\n",
        "    # Store the atomic numbers\n",
        "    self.atomic_numbers = pt.tensor(atomic_numbers).unsqueeze(0)\n",
        "\n",
        "    # Create an ANI-2x model\n",
        "    self.model = ANI2x(periodic_table_index=True)\n",
        "\n",
        "    # Accelerate the model\n",
        "    self.model = OptimizedTorchANI(self.model, self.atomic_numbers)\n",
        "\n",
        "  def forward(self, positions):\n",
        "\n",
        "    # Prepare the positions\n",
        "    positions = positions.unsqueeze(0).float() * 10 # nm --> Å\n",
        "    \n",
        "    # Run ANI-2x\n",
        "    result = self.model((self.atomic_numbers, positions))\n",
        "    \n",
        "    # Get the potential energy\n",
        "    energy = result.energies[0] * 2625.5 # Hartree --> kJ/mol\n",
        "\n",
        "    return energy\n",
        "\n",
        "# Create an instance of the model\n",
        "nnp = NNP(atomic_numbers)"
      ]
    },
    {
      "cell_type": "markdown",
      "metadata": {
        "id": "iOTneQ1_I9aB"
      },
      "source": [
        "At this point, the potential energy of the system can be computed with the NNP:"
      ]
    },
    {
      "cell_type": "code",
      "execution_count": 3,
      "metadata": {
        "colab": {
          "base_uri": "https://localhost:8080/"
        },
        "id": "D42I_L9r-Krj",
        "outputId": "37ea1614-5fce-4e39-a196-957ff1dd975d"
      },
      "outputs": [
        {
          "name": "stdout",
          "output_type": "stream",
          "text": [
            "-1301523.8703817206\n"
          ]
        }
      ],
      "source": [
        "# Comute the potential energy\n",
        "pos = pt.tensor(ala2.positions.tolist())\n",
        "energy_1 = float(nnp(pos))\n",
        "print(energy_1)\n",
        "\n",
        "# Check if the energy is correct\n",
        "assert pt.isclose(pt.tensor(energy_1), pt.tensor(-1301523.8703817206))"
      ]
    },
    {
      "cell_type": "markdown",
      "metadata": {
        "id": "zOV53fN2sB3C"
      },
      "source": [
        "## Add the NNP to the system\n",
        "\n",
        "In order to use the NNP in a simulation, it has to loaded with [OpenMM-Torch](https://github.com/openmm/openmm-torch) and added to the system."
      ]
    },
    {
      "cell_type": "code",
      "execution_count": 4,
      "metadata": {
        "id": "Snj9UrPbsIS5"
      },
      "outputs": [],
      "source": [
        "from openmmtorch import TorchForce\n",
        "\n",
        "# Save the NNP to a file and load it with OpenMM-Torch\n",
        "pt.jit.script(nnp).save('model.pt')\n",
        "force = TorchForce('model.pt')\n",
        "\n",
        "# Add the NNP to the system\n",
        "ala2.system.addForce(force)\n",
        "assert ala2.system.getNumForces() == 1"
      ]
    },
    {
      "cell_type": "markdown",
      "metadata": {
        "id": "jLtSbKg6BB1n"
      },
      "source": [
        "## Setup a simulation\n",
        "\n",
        "Setup a simulation with [OpenMM](https://openmm.org/)."
      ]
    },
    {
      "cell_type": "code",
      "execution_count": 5,
      "metadata": {
        "id": "6l2vPxPZ3u56"
      },
      "outputs": [],
      "source": [
        "import sys\n",
        "from openmm import LangevinMiddleIntegrator\n",
        "from openmm.app import Simulation, StateDataReporter\n",
        "from openmm.unit import kelvin, picosecond, femtosecond\n",
        "\n",
        "# Create an integrator with a time step of 1 fs\n",
        "temperature = 298.15 * kelvin\n",
        "frictionCoeff = 1 / picosecond\n",
        "timeStep = 1 * femtosecond\n",
        "integrator = LangevinMiddleIntegrator(temperature, frictionCoeff, timeStep)\n",
        "\n",
        "# Create a simulation and set the initial positions and velocities\n",
        "simulation = Simulation(ala2.topology, ala2.system, integrator)\n",
        "simulation.context.setPositions(ala2.positions)\n",
        "# simulation.context.setVelocitiesToTemperature(temperature) # This does not work (https://github.com/openmm/openmm-torch/issues/61)\n",
        "\n",
        "# Configure a reporter to print to the console every 1 ps (1000 steps)\n",
        "reporter = StateDataReporter(file=sys.stdout, reportInterval=1000, step=True, time=True, potentialEnergy=True, temperature=True)\n",
        "simulation.reporters.append(reporter)"
      ]
    },
    {
      "cell_type": "markdown",
      "metadata": {
        "id": "4ProIzIWL4Co"
      },
      "source": [
        "At this point, the potential energy of the system can be computed again:"
      ]
    },
    {
      "cell_type": "code",
      "execution_count": 6,
      "metadata": {
        "colab": {
          "base_uri": "https://localhost:8080/"
        },
        "id": "JN9v2rz3KbTz",
        "outputId": "caa7ee3e-f596-49fa-92cc-9ade60251817"
      },
      "outputs": [
        {
          "name": "stdout",
          "output_type": "stream",
          "text": [
            "-1301523.8703817206\n"
          ]
        }
      ],
      "source": [
        "from openmm.unit import kilojoule_per_mole\n",
        "\n",
        "# Comute the potential energy\n",
        "state = simulation.context.getState(getEnergy=True)\n",
        "energy_2 = state.getPotentialEnergy().value_in_unit(kilojoule_per_mole)\n",
        "print(energy_2)\n",
        "\n",
        "# Check if the energy is correct\n",
        "assert pt.isclose(pt.tensor(energy_1), pt.tensor(energy_2))"
      ]
    },
    {
      "cell_type": "markdown",
      "metadata": {
        "id": "3DwdnGQ8NT2X"
      },
      "source": [
        "## Run the simulation\n",
        "\n",
        "Run your first NNP simulation.\n",
        "\n",
        "⚠️ The simulations takes ~10 min!"
      ]
    },
    {
      "cell_type": "code",
      "execution_count": 7,
      "metadata": {
        "colab": {
          "base_uri": "https://localhost:8080/"
        },
        "id": "da0v6qJHBtUb",
        "outputId": "63dc5aa9-f97f-421c-ee76-db890200c23b"
      },
      "outputs": [
        {
          "name": "stdout",
          "output_type": "stream",
          "text": [
            "#\"Step\",\"Time (ps)\",\"Potential Energy (kJ/mole)\",\"Temperature (K)\"\n",
            "1000,1.0000000000000007,-1301501.6178460198,296.4993414791204\n",
            "2000,1.9999999999998905,-1301485.7827340441,286.34765244926075\n",
            "3000,2.9999999999997806,-1301483.4875050785,266.26960174233255\n",
            "4000,3.9999999999996705,-1301471.850056127,339.43186569920505\n",
            "5000,5.000000000000004,-1301485.84986911,329.96944778439826\n",
            "6000,6.000000000000338,-1301458.0479316565,294.8705040652181\n",
            "7000,7.000000000000672,-1301471.3498294654,285.0017737950245\n",
            "8000,8.000000000001005,-1301466.246508144,283.8169349329798\n",
            "9000,9.000000000000451,-1301452.765857354,293.9067395451998\n",
            "10000,9.999999999999897,-1301458.641897023,238.90108792292074\n"
          ]
        }
      ],
      "source": [
        "# Run the simulations for 10 ps (10000 steps)\n",
        "simulation.step(10000)"
      ]
    }
  ],
  "metadata": {
    "colab": {
      "collapsed_sections": [
        "BKG1ZNq94f-Z"
      ],
      "name": "openmm-torch-nnpops.ipynb",
      "provenance": []
    },
    "kernelspec": {
      "display_name": "Python 3",
      "name": "python3"
    },
    "language_info": {
      "name": "python"
    }
  },
  "nbformat": 4,
  "nbformat_minor": 0
}
